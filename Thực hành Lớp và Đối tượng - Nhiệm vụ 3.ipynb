{
 "cells": [
  {
   "cell_type": "code",
   "execution_count": 1,
   "id": "a42fa0c7",
   "metadata": {},
   "outputs": [
    {
     "name": "stdout",
     "output_type": "stream",
     "text": [
      "number1 là: 90 \n",
      "number2 là: 5\n",
      "450 18.0 95 85\n"
     ]
    }
   ],
   "source": [
    "class Equation:\n",
    "    def __init__(self, number1, number2):\n",
    "        self.number1 = number1\n",
    "        self.number2 = number2\n",
    "    def print_info(self):\n",
    "       print(f\"number1 là: {self.number1} \\nnumber2 là: {self.number2}\")\n",
    "    def multiply(self):\n",
    "        product = self.number1*self.number2\n",
    "        return product  \n",
    "    def division(self):\n",
    "        quotient = self.number1/self.number2\n",
    "        return quotient \n",
    "    def add(self):\n",
    "        sum = self.number1+self.number2\n",
    "        return sum\n",
    "    def subtract(self):\n",
    "        difference = self.number1-self.number2\n",
    "        return difference\n",
    "a = Equation(90,5)\n",
    "a.print_info()\n",
    "a.division()\n",
    "print(a.multiply(),a.division(),a.add(),a.subtract())"
   ]
  },
  {
   "cell_type": "code",
   "execution_count": null,
   "id": "440610a2-4596-495b-a98d-9a87ae0ef873",
   "metadata": {},
   "outputs": [],
   "source": []
  }
 ],
 "metadata": {
  "kernelspec": {
   "display_name": "Python 3 (ipykernel)",
   "language": "python",
   "name": "python3"
  },
  "language_info": {
   "codemirror_mode": {
    "name": "ipython",
    "version": 3
   },
   "file_extension": ".py",
   "mimetype": "text/x-python",
   "name": "python",
   "nbconvert_exporter": "python",
   "pygments_lexer": "ipython3",
   "version": "3.8.9"
  }
 },
 "nbformat": 4,
 "nbformat_minor": 5
}
