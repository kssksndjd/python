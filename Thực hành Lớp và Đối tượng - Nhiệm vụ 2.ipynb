{
 "cells": [
  {
   "cell_type": "code",
   "execution_count": null,
   "id": "1b7705b3",
   "metadata": {},
   "outputs": [],
   "source": [
    "\"\"\"\n",
    "Viết class NhanVien gồm các thuộc tính:\n",
    "+ Tên\n",
    "+ Tuổi\n",
    "+ Địa chỉ\n",
    "+ Tiền lương\n",
    "+ Tổng số giờ làm\n",
    "\n",
    "Và các phương thức:\n",
    "- Phương thức __init__()\n",
    "- print_info() : In ra tất cả các thông tin của nhân viên\n",
    "- tinh_thuong(): Tính toán và trả về số tiền thưởng của nhân viên theo công thức sau:\n",
    "Nếu tổng số giờ làm của nhân viên >=200 thì thưởng = lương * 20%\n",
    "Nếu tổng số giờ làm của nhân viên <200 và >=100 thì thưởng = lương * 10%\n",
    "Nếu tổng số giờ làm của nhân viên <100 thì thưởng = 0\n",
    "\"\"\""
   ]
  },
  {
   "cell_type": "code",
   "execution_count": 1,
   "id": "3cf0f41d",
   "metadata": {},
   "outputs": [],
   "source": [
    "class NhanVien:\n",
    "    def __init__(self, name, age, address, salary, work):\n",
    "        self.name = name\n",
    "        self.age = age\n",
    "        self.address = address\n",
    "        self.salary = salary\n",
    "        self.work = work\n",
    "    def print_info(self):\n",
    "        return print(f'Tên: {self.name}, tuổi: {self.age}, địa chỉ: {self.address}, mức lương: {self.salary}, tổng số giờ làm {self.work}.')\n",
    "    def bonus(self):\n",
    "        bonus_money = 0\n",
    "        if self.work < 100:\n",
    "            bonus_money = 0\n",
    "            print(f\"Tổng tiền lương là: {self.salary}\")\n",
    "        elif self.work < 200:\n",
    "            bonus_money = 0.1 * self.salary\n",
    "            self.salary += bonus_money\n",
    "            print(f\"Tổng tiền lương là: {self.salary}\")\n",
    "        else:\n",
    "            bonus_money = 0.2 * self.salary\n",
    "            self.salary += bonus_money\n",
    "            print(f\"Tổng tiền lương là: {self.salary}\")"
   ]
  },
  {
   "cell_type": "code",
   "execution_count": 6,
   "id": "bc61f433-b9ff-479e-aa33-c78dee18f749",
   "metadata": {},
   "outputs": [
    {
     "name": "stdout",
     "output_type": "stream",
     "text": [
      "Tên: Long, tuổi: 17, địa chỉ: HCM, mức lương: 1000, tổng số giờ làm 120.\n",
      "Tổng tiền lương là: 1100.0\n"
     ]
    }
   ],
   "source": [
    "L = NhanVien('Long', 17, 'HCM', 1000, 120)\n",
    "L.print_info()\n",
    "L.bonus()"
   ]
  },
  {
   "cell_type": "code",
   "execution_count": null,
   "id": "70e9c0ac-5b20-4e3f-bcd7-2e689dc0ec7f",
   "metadata": {},
   "outputs": [],
   "source": []
  }
 ],
 "metadata": {
  "kernelspec": {
   "display_name": "Python 3 (ipykernel)",
   "language": "python",
   "name": "python3"
  },
  "language_info": {
   "codemirror_mode": {
    "name": "ipython",
    "version": 3
   },
   "file_extension": ".py",
   "mimetype": "text/x-python",
   "name": "python",
   "nbconvert_exporter": "python",
   "pygments_lexer": "ipython3",
   "version": "3.8.9"
  }
 },
 "nbformat": 4,
 "nbformat_minor": 5
}
