{
 "cells": [
  {
   "cell_type": "markdown",
   "id": "49302863",
   "metadata": {},
   "source": [
    "# Thực hành: Cấu trúc điều kiện"
   ]
  },
  {
   "cell_type": "markdown",
   "id": "46ccf6e6",
   "metadata": {},
   "source": [
    "### Bài 1: Viết chương trình nhập vào chiều dài và chiều rộng của hình chữ nhật và cho biết đó có phải là hình vuông hay không."
   ]
  },
  {
   "cell_type": "code",
   "execution_count": 4,
   "id": "556994f0",
   "metadata": {},
   "outputs": [
    {
     "name": "stdin",
     "output_type": "stream",
     "text": [
      "nhap chieu dai 5\n",
      "nhap chieu rong 5\n"
     ]
    },
    {
     "name": "stdout",
     "output_type": "stream",
     "text": [
      "hinh vuong\n"
     ]
    }
   ],
   "source": [
    "chieu_dai = int(input(\"nhap chieu dai\"))\n",
    "chieu_rong = int(input(\"nhap chieu rong\"))\n",
    "if chieu_dai == chieu_rong:\n",
    "   print('hinh vuong')\n",
    "else:\n",
    "   print('hinh chu nhat')"
   ]
  },
  {
   "cell_type": "markdown",
   "id": "9fb580f4",
   "metadata": {},
   "source": [
    "### Bài 2: Viết chương trình nhập vào 2 số a, b và in ra số lớn nhất"
   ]
  },
  {
   "cell_type": "code",
   "execution_count": 5,
   "id": "8addea4b",
   "metadata": {},
   "outputs": [
    {
     "name": "stdin",
     "output_type": "stream",
     "text": [
      "nhap a 4\n",
      "nhap b 5\n"
     ]
    },
    {
     "name": "stdout",
     "output_type": "stream",
     "text": [
      "5\n"
     ]
    }
   ],
   "source": [
    "a = int(input(\"nhap a\"))\n",
    "b = int(input(\"nhap b\"))\n",
    "if a>=b:\n",
    "   print(a)\n",
    "else:\n",
    "   print(b)"
   ]
  },
  {
   "cell_type": "markdown",
   "id": "69d21160",
   "metadata": {},
   "source": [
    "### Bài 3: Viết chương trình nhập vào 3 số a, b, c và in ra số lớn nhất"
   ]
  },
  {
   "cell_type": "code",
   "execution_count": 50,
   "id": "861e50d8-54ba-4ece-b8cc-e7de6a28e4ab",
   "metadata": {},
   "outputs": [
    {
     "name": "stdin",
     "output_type": "stream",
     "text": [
      "nhập số a : 4\n",
      "nhập số b : 5\n",
      "nhập số c : 6\n"
     ]
    },
    {
     "name": "stdout",
     "output_type": "stream",
     "text": [
      "giá trị lớn nhất là : 6\n"
     ]
    }
   ],
   "source": [
    "a = int(input(\"nhập số a :\"))\n",
    "b = int(input(\"nhập số b :\"))\n",
    "c = int(input(\"nhập số c :\"))\n",
    "max = a\n",
    "if b > max : \n",
    "    max = b\n",
    "if c > max :\n",
    "    max = c\n",
    "print(\"giá trị lớn nhất là :\", max)\n",
    "        "
   ]
  },
  {
   "cell_type": "markdown",
   "id": "4e8b134a",
   "metadata": {},
   "source": [
    "### Bài 4: Viết chương trình nhập vào số tuổi của 3 người và cho biết ai là người trẻ nhất và ai là người lớn tuổi nhất"
   ]
  },
  {
   "cell_type": "code",
   "execution_count": 51,
   "id": "595c46a2",
   "metadata": {},
   "outputs": [
    {
     "name": "stdin",
     "output_type": "stream",
     "text": [
      "nhap tuoi ng 1 5\n",
      "nhap tuoi ng 2 6\n",
      "nhap tuoi ng 3 8\n"
     ]
    },
    {
     "name": "stdout",
     "output_type": "stream",
     "text": [
      "ng lớn nhất là : 8\n",
      "ng lớn nhất là : 5\n"
     ]
    }
   ],
   "source": [
    "a = int(input(\"nhap tuoi ng 1\"))\n",
    "b = int(input(\"nhap tuoi ng 2\"))\n",
    "c = int(input(\"nhap tuoi ng 3\"))\n",
    "max = a\n",
    "if b > max : \n",
    "    max = b\n",
    "if c > max :\n",
    "    max = c\n",
    "print(\"ng lớn nhất là :\", max)\n",
    "print(\"ng lớn nhất là :\", min(a,b,c))\n",
    "\n"
   ]
  },
  {
   "cell_type": "markdown",
   "id": "bab39fe3",
   "metadata": {},
   "source": [
    "### Bài 5: Viết chương trình nhập vào một số bất kỳ và in ra giá trị tuyệt đối của số đó"
   ]
  },
  {
   "cell_type": "code",
   "execution_count": 45,
   "id": "db1b6c29",
   "metadata": {},
   "outputs": [
    {
     "name": "stdin",
     "output_type": "stream",
     "text": [
      "nhap so -45\n"
     ]
    },
    {
     "name": "stdout",
     "output_type": "stream",
     "text": [
      "45.0\n"
     ]
    }
   ],
   "source": [
    "a = float(input(\"nhap so\"))\n",
    "print(abs(a))"
   ]
  },
  {
   "cell_type": "markdown",
   "id": "34ff32df",
   "metadata": {},
   "source": [
    "### Bài 6: Học viên sẽ không đủ điều kiện thi nếu tỉ lệ có mặt nhỏ hơn 75%. Viết chương trình nhập vào tổng số buổi học của một khóa học và tổng số buổi học mà học viên tham gia. Sau đó cho biết học viên đó có đủ điều kiện thi hay không."
   ]
  },
  {
   "cell_type": "code",
   "execution_count": 49,
   "id": "3eaa86ce",
   "metadata": {},
   "outputs": [
    {
     "name": "stdin",
     "output_type": "stream",
     "text": [
      "nhap tong so buoi khoa hoc 10\n",
      "nhap so buoi hoc vien tham gia 9\n"
     ]
    },
    {
     "name": "stdout",
     "output_type": "stream",
     "text": [
      "du dk thi\n"
     ]
    }
   ],
   "source": [
    "course = int(input(\"nhap tong so buoi khoa hoc\"))\n",
    "present = int(input(\"nhap so buoi hoc vien tham gia\"))\n",
    "if present/course >= 0.75:\n",
    "    print(\"du dk thi\")\n",
    "else:\n",
    "    print(\"khong du dk thi\")"
   ]
  },
  {
   "cell_type": "markdown",
   "id": "4c34d5dd-3353-416a-ac42-6b1c67d8be56",
   "metadata": {},
   "source": [
    " Bài 7: Một công ty vận tải có cách tính chi phí giao hàng như sau:\n",
    "1. 10kilogram đầu tiên: \\$5/kg\n",
    "2. Từ kilogram thứ 11 đến 20: \\$7/kg\n",
    "3. Từ kilogram thứ 20 trở lên: \\$10/kg\n",
    "\n",
    "Viết chương trình nhập vào số kg cần giao(số nguyên) và in ra chi phí giao hàng tương ứng"
   ]
  },
  {
   "cell_type": "code",
   "execution_count": 56,
   "id": "7db18fdc",
   "metadata": {},
   "outputs": [
    {
     "name": "stdin",
     "output_type": "stream",
     "text": [
      "nhap so kg can giao 23\n"
     ]
    },
    {
     "name": "stdout",
     "output_type": "stream",
     "text": [
      "150\n"
     ]
    }
   ],
   "source": [
    "weight = int(input(\"nhap so kg can giao\"))\n",
    "fee = 0\n",
    "if weight <=10:\n",
    "    fee = 5*weight\n",
    "elif weight >10 and weight <=20:\n",
    "    fee = 5*10 + 7*(weight -10)\n",
    "else:\n",
    "    fee = 5*10 + 7*10 + 10*(weight-20)\n",
    "print(fee)\n"
   ]
  },
  {
   "cell_type": "markdown",
   "id": "bd90d2aa",
   "metadata": {},
   "source": [
    "### Bài 8: Viết chương trình nhập vào số năm và cho biết năm đó là năm nhuận hay năm không nhuận."
   ]
  },
  {
   "cell_type": "code",
   "execution_count": 68,
   "id": "b76553cd",
   "metadata": {},
   "outputs": [
    {
     "name": "stdin",
     "output_type": "stream",
     "text": [
      "nhap nam: 2019\n"
     ]
    },
    {
     "name": "stdout",
     "output_type": "stream",
     "text": [
      "khong phai nam nhuan\n"
     ]
    }
   ],
   "source": [
    "year=int(input(\"nhap nam:\"))\n",
    "remainder = year%19\n",
    "if remainder ==3 or remainder == 6 or remainder == 9 or remainder == 11 or remainder ==  14 or remainder == 17:\n",
    "    print(\"nam nhuan\")\n",
    "else:\n",
    "    print(\"khong phai nam nhuan\")"
   ]
  },
  {
   "cell_type": "markdown",
   "id": "b9785142",
   "metadata": {},
   "source": [
    "### Bài 9: Viết chương trình nhập vào 1 số từ 1 đến 7 và in ra số ngày trong tuần tương ứng như sau:\n",
    "- 1: Sunday\n",
    "- 2: Monday\n",
    "- 3: Tuesday\n",
    "- 4: Wednesday\n",
    "- 5: Thursday\n",
    "- 6: Friday\n",
    "- 7: Saturday"
   ]
  },
  {
   "cell_type": "code",
   "execution_count": 3,
   "id": "f34e32bc",
   "metadata": {},
   "outputs": [
    {
     "name": "stdin",
     "output_type": "stream",
     "text": [
      "nhap so  1\n"
     ]
    },
    {
     "name": "stdout",
     "output_type": "stream",
     "text": [
      "Sunday\n"
     ]
    }
   ],
   "source": [
    "a = int(input(\"nhap so \"))\n",
    "if a ==1:\n",
    "    print(\"Sunday\")\n",
    "elif a ==2:\n",
    "    print(\"Monday\")\n",
    "elif a ==3:\n",
    "    print(\"Tuesday\")\n",
    "elif a ==4:\n",
    "    print(\"Wednesday\")\n",
    "elif a ==5:\n",
    "    print(\"Thursday\")\n",
    "elif a ==6:\n",
    "    print(\"Friday\")\n",
    "else:\n",
    "    print(\"Saturday\")\n",
    "\n"
   ]
  },
  {
   "cell_type": "markdown",
   "id": "8ea2e041",
   "metadata": {},
   "source": [
    "### Bài 10:\n",
    "Tại một cửa hàng nọ có menu như sau:\n",
    "\n",
    "1. Gà rán giá 35k\n",
    "2. Hamburger giá 50k\n",
    "3. Pesi giá 10k\n",
    "\n",
    "Nhập số lượng món hàng cần mua\n",
    "\n",
    "Tính và in ra tổng giá tiền\n",
    "\n",
    "Nếu giá trị đơn hàng trên 2 triệu, giảm 10% cho khách, trên 4 triệu, giảm 15%\n",
    "\n",
    "Tính và in ra tổng giá tiền được giảm\n",
    "\n",
    "Tính và in ra tổng giá tiền khách cần trả\n",
    "\n",
    "In ra dòng chữ \"Cảm ơn quý khách đã mua hàng\""
   ]
  },
  {
   "cell_type": "code",
   "execution_count": null,
   "id": "87c6d4a1",
   "metadata": {},
   "outputs": [],
   "source": [
    "\"\"\"Ví dụ:\n",
    "Nhập số lượng gà rán khách mua:100\n",
    "Nhập số lượng hamburger khách mua:100\n",
    "Nhập số lượng pesi khách mua:15\n",
    "Tổng giá tiền đơn hàng là: 8.650.000\n",
    "Tổng tiền được giảm là: 1.297.500\n",
    "Tổng tiền phải thanh toán: 7.352.500\n",
    "Cảm ơn quý khách đã mua\n",
    "\"\"\""
   ]
  },
  {
   "cell_type": "code",
   "execution_count": 9,
   "id": "f75fa383",
   "metadata": {},
   "outputs": [
    {
     "name": "stdin",
     "output_type": "stream",
     "text": [
      "nhap so lượng gà rán khách mua  798\n",
      "Nhập số lượng hamburger khách mua 76\n",
      "Nhập số lượng pesi khách mua 5\n"
     ]
    },
    {
     "name": "stdout",
     "output_type": "stream",
     "text": [
      "Tổng giá tiền đơn hàng là 31780000\n",
      "Tổng tiền được giảm là 4767000.0\n",
      "Tổng tiền phải thanh toán 27013000.0\n",
      "cam on quy khach da mua\n"
     ]
    }
   ],
   "source": [
    "chicken = int(input(\"nhap so lượng gà rán khách mua \"))\n",
    "hamburger = int(input(\"Nhập số lượng hamburger khách mua\"))\n",
    "pepsi = int(input(\"Nhập số lượng pesi khách mua\"))\n",
    "price_org = chicken*35000 + hamburger * 50000 + pepsi*10000\n",
    "sale=0\n",
    "price=0\n",
    "print(\"Tổng giá tiền đơn hàng là \"+ str(price_org))\n",
    "if price_org >= 2000000 and price_org <= 4000000:\n",
    "    sale = price_org /10\n",
    "    price = price_org - sale\n",
    "    print(\"Tổng tiền được giảm là\" +str(sale))\n",
    "    print(\"Tổng tiền phải thanh toán\" + str(price))\n",
    "elif price_org > 4000000:\n",
    "    sale = price_org  *0.15\n",
    "    price = price_org - sale\n",
    "    print(\"Tổng tiền được giảm là \" +str(sale))\n",
    "    print(\"Tổng tiền phải thanh toán \" + str(price))\n",
    "print(\"cam on quy khach da mua\")"
   ]
  },
  {
   "cell_type": "markdown",
   "id": "e9853dc8",
   "metadata": {},
   "source": [
    "### Bài 11:\n",
    "\n",
    "Nhập vào chiều cao (cm) và cân nặng (kg), tính số BMI và xét rồi xin kết quả theo dữ liệu sau:\n",
    "\n",
    "- BMI < 16: Gầy cấp độ III\n",
    "- 16 <= BMI < 17:  Gầy cấp độ II\n",
    "- 17<= BMI < 18.5: Gầy cấp độ I\n",
    "- 18.5 <= BMI < 25: Bình thường\n",
    "- 25 <= BMI < 30: Thừa cân\n",
    "- 30 <= BMI < 35 : Béo phì cấp độ I\n",
    "- 35 <= BMI < 40: Béo phì cấp độ II\n",
    "- BMI > 40: Béo phì cấp độ III"
   ]
  },
  {
   "cell_type": "code",
   "execution_count": 10,
   "id": "ac5f1a74",
   "metadata": {},
   "outputs": [
    {
     "name": "stdin",
     "output_type": "stream",
     "text": [
      "Nhap chieu cao 1.74\n",
      "Nhap can nang 75\n"
     ]
    },
    {
     "name": "stdout",
     "output_type": "stream",
     "text": [
      " Bình thường\n"
     ]
    }
   ],
   "source": [
    "height = float(input(\"Nhap chieu cao\"))\n",
    "weight = float(input(\"Nhap can nang\"))\n",
    "bmi = weight/ height**2\n",
    "if bmi <16:\n",
    "    print(\"Gầy cấp độ III\")\n",
    "elif bmi >=15 and bmi <17:\n",
    "    print(\" Gầy cấp độ II\")\n",
    "elif bmi >=17 and bmi <18.5:\n",
    "    print(\" Gầy cấp độ I\")\n",
    "elif bmi >=18.5 and bmi <25:\n",
    "    print(\" Bình thường\")\n",
    "elif bmi >=25 and bmi <30:\n",
    "    print(\" Thừa cân\")\n",
    "elif bmi >=30 and bmi <35:\n",
    "    print(\" Béo phì cấp độ I\")\n",
    "elif bmi >=35 and bmi <40:\n",
    "    print(\" Béo phì cấp độ II\")\n",
    "elif bmi >=40:\n",
    "    print(\" Béo phì cấp độ III\")"
   ]
  },
  {
   "cell_type": "markdown",
   "id": "5e374dbb",
   "metadata": {},
   "source": [
    "### Bài 12: Tìm ra người lớn tuổi nhất trong 4 người thông qua số tuổi nhập vào từ người dùng."
   ]
  },
  {
   "cell_type": "code",
   "execution_count": 12,
   "id": "d0124153",
   "metadata": {},
   "outputs": [
    {
     "name": "stdin",
     "output_type": "stream",
     "text": [
      "nhap tuoi nguoi 1 45\n",
      "nhap tuoi nguoi 2 65\n",
      "nhap tuoi nguoi 3 78\n",
      "nhap tuoi nguoi 4 89\n"
     ]
    },
    {
     "name": "stdout",
     "output_type": "stream",
     "text": [
      "nguoi lon tuoi nhat89\n"
     ]
    }
   ],
   "source": [
    "a = int(input(\"nhap tuoi nguoi 1\"))\n",
    "b = int(input(\"nhap tuoi nguoi 2\"))\n",
    "c = int(input(\"nhap tuoi nguoi 3\"))\n",
    "d = int(input(\"nhap tuoi nguoi 4\"))\n",
    "print(\"nguoi lon tuoi nhat \" + str(max(a,b,c,d)))"
   ]
  },
  {
   "cell_type": "markdown",
   "id": "8b8cd5ce",
   "metadata": {},
   "source": [
    "## BONUS"
   ]
  },
  {
   "cell_type": "markdown",
   "id": "78de408b",
   "metadata": {},
   "source": [
    "### Bài 13: Viết chương trình nhập vào số đo 3 cạnh của tam giác và cho biết đó là tam giác cân, tam giác đều hay tam giác vô hướng\n",
    "Ghi chú:\n",
    " - Tam giác cân là tam giác có 2 cạnh bằng nhau\n",
    " - Tam giác đều là tam giác có 3 cạnh bằng nhau\n",
    " - Tam giác vô hướng là tam giác không có cạnh nào bằng nhau"
   ]
  },
  {
   "cell_type": "code",
   "execution_count": 55,
   "id": "13dcfd68",
   "metadata": {},
   "outputs": [
    {
     "name": "stdin",
     "output_type": "stream",
     "text": [
      "nhap canh 1 5\n",
      "nhap canh 2 4\n",
      "nhap canh 3 5\n"
     ]
    },
    {
     "name": "stdout",
     "output_type": "stream",
     "text": [
      " tam giac can \n"
     ]
    }
   ],
   "source": [
    "a=int(input(\"nhap canh 1\"))\n",
    "b=int(input(\"nhap canh 2\"))\n",
    "c=int(input(\"nhap canh 3\"))\n",
    "if a==b:\n",
    "       if a==c:\n",
    "            print(\" tam giac deu \") \n",
    "       else:\n",
    "            print(\" tam giac can \") \n",
    "      \n",
    "elif b==c:\n",
    "        if b==a:\n",
    "            print(\" tam giac deu \") \n",
    "        else:\n",
    "            print(\" tam giac can \") \n",
    "       \n",
    "elif c==a:\n",
    "       if c==b:\n",
    "            print(\" tam giac deu \") \n",
    "       elif c!=b:\n",
    "                print(\" tam giac can \") \n",
    "else:\n",
    "       print(\"tam giac vo huong\")\n",
    "\n"
   ]
  },
  {
   "cell_type": "markdown",
   "id": "d3de6fbd",
   "metadata": {},
   "source": [
    "### Bài 14: Viết chương trình nhập vào 3 số nguyên khác nhau và in ra số lớn thứ hai"
   ]
  },
  {
   "cell_type": "code",
   "execution_count": 57,
   "id": "1d2f12a9",
   "metadata": {},
   "outputs": [
    {
     "name": "stdin",
     "output_type": "stream",
     "text": [
      "Nhap vao so phan tu cua danh sach:  5\n",
      "Nhap vao so phan tu cua danh sach:  6\n",
      "Nhap vao so phan tu cua danh sach:  4\n"
     ]
    },
    {
     "name": "stdout",
     "output_type": "stream",
     "text": [
      "\n",
      "Phan tu lon thu hai trong danh sach tren la: 5\n"
     ]
    }
   ],
   "source": [
    "def Find_max_second(a):\n",
    "    max_1 = max(a[0], a[1])\n",
    "    max_2 = min(a[0], a[1])\n",
    "\n",
    "    for i in range(2, len(a)):\n",
    "        if a[i] > max_1:\n",
    "            max_2 = max_1\n",
    "            max_1 = a[i]\n",
    "        elif (a[i] > max_2) and (max_1 != a[i]):\n",
    "            max_2 = a[i]\n",
    "\n",
    "    return max_2\n",
    "\n",
    "\n",
    "# Nhap du lieu\n",
    "b = int(input(\"Nhap vao so 1 \"))\n",
    "c= int(input(\"Nhap vao so 2 \"))\n",
    "d = int(input(\"Nhap vao so 3 \"))\n",
    "a=[b,c,d]\n",
    "\n",
    "\n",
    "print(\"\\nPhan tu lon thu hai trong danh sach tren la:\", Find_max_second(a))"
   ]
  },
  {
   "cell_type": "raw",
   "id": "e540c634-1797-400e-ae84-4c5c4e83e0b1",
   "metadata": {
    "jp-MarkdownHeadingCollapsed": true
   },
   "source": [
    "### Bài 15: Xem đoạn code sau:\n",
    "![image.png](attachment:image.png)\n",
    "Nếu i, j, k có các giá trị ban đầu là:\n",
    "\n",
    "a. i = 3, j = 5, k = 7\n",
    "\n",
    "b. i = 13, j = 15, k = 13\n",
    "\n",
    "Thì giá trị của i, j, k sau khi thực hiện đoạn code trên là bao nhiêu?(kiểm tra bằng cách tính nhẩm, không code lại)\n",
    "\n",
    "Đáp án B"
   ]
  },
  {
   "cell_type": "markdown",
   "id": "e050841c",
   "metadata": {},
   "source": [
    "### Bài 16: Viết một chương trình thực hiện phép tính đơn giản như sau:\n",
    "```\n",
    "    Nhập số thứ nhất: 16\n",
    "    Nhập số thứ hai: 9\n",
    "    Nhập toán tử (+, -, *, /): +\n",
    "    Kết quả: 16 + 9 = 25\n",
    "```"
   ]
  },
  {
   "cell_type": "code",
   "execution_count": 70,
   "id": "14cda4fa",
   "metadata": {},
   "outputs": [
    {
     "name": "stdin",
     "output_type": "stream",
     "text": [
      "Nhap vao so 1  67\n",
      "Nhap vao so 2  54\n",
      "Nhap toan tu :\n"
     ]
    },
    {
     "name": "stdout",
     "output_type": "stream",
     "text": [
      "1.2407407407407407\n"
     ]
    }
   ],
   "source": [
    "a = int(input(\"Nhap vao so 1 \"))\n",
    "b = int(input(\"Nhap vao so 2 \"))\n",
    "c = str(input(\"Nhap toan tu\"))\n",
    "if c==\"+\":\n",
    "    print(str(a+b))\n",
    "if c==\"-\":\n",
    "    print(str(a-b))\n",
    "if c==\"*\":\n",
    "    print(str(a*b))\n",
    "if c==\":\":\n",
    "    print(str(a/b))\n",
    "\n"
   ]
  },
  {
   "cell_type": "code",
   "execution_count": 69,
   "id": "4da469f6-0b82-48c3-b024-16b431eb70ec",
   "metadata": {
    "jp-MarkdownHeadingCollapsed": true
   },
   "outputs": [
    {
     "name": "stdin",
     "output_type": "stream",
     "text": [
      "Nhap vao so 1  6\n",
      "Nhap vao so 2  8\n",
      "Nhap vao so 3  5\n"
     ]
    },
    {
     "name": "stdout",
     "output_type": "stream",
     "text": [
      "5 6 8\n"
     ]
    }
   ],
   "source": [
    "## Bài 17: Viết chương trình nhập vào 3 số nguyên và in ra màn hình theo thứ tự từ lớn đến bé.\n",
    "def Find_max_second(a):\n",
    "    max_1 = max(a[0], a[1])\n",
    "    max_2 = min(a[0], a[1])\n",
    "\n",
    "    for i in range(2, len(a)):\n",
    "        if a[i] > max_1:\n",
    "            max_2 = max_1\n",
    "            max_1 = a[i]\n",
    "        elif (a[i] > max_2) and (max_1 != a[i]):\n",
    "            max_2 = a[i]\n",
    "\n",
    "    return max_2\n",
    "\n",
    "\n",
    "# Nhap du lieu\n",
    "b = int(input(\"Nhap vao so 1 \"))\n",
    "c= int(input(\"Nhap vao so 2 \"))\n",
    "d = int(input(\"Nhap vao so 3 \"))\n",
    "a=[b,c,d]\n",
    "\n",
    "\n",
    "print(str(min(a))+ \" \" + str(Find_max_second(a)) +\" \" + str(max(a)))\n",
    "\n"
   ]
  },
  {
   "cell_type": "code",
   "execution_count": null,
   "id": "67e51662",
   "metadata": {},
   "outputs": [],
   "source": []
  },
  {
   "cell_type": "code",
   "execution_count": null,
   "id": "24b97325-6149-4817-b31b-50721798e2c1",
   "metadata": {},
   "outputs": [],
   "source": []
  },
  {
   "cell_type": "code",
   "execution_count": null,
   "id": "a6b5da42-7279-4daa-a926-63c7b4169cbe",
   "metadata": {},
   "outputs": [],
   "source": []
  }
 ],
 "metadata": {
  "kernelspec": {
   "display_name": "Python 3 (ipykernel)",
   "language": "python",
   "name": "python3"
  },
  "language_info": {
   "codemirror_mode": {
    "name": "ipython",
    "version": 3
   },
   "file_extension": ".py",
   "mimetype": "text/x-python",
   "name": "python",
   "nbconvert_exporter": "python",
   "pygments_lexer": "ipython3",
   "version": "3.8.9"
  }
 },
 "nbformat": 4,
 "nbformat_minor": 5
}
